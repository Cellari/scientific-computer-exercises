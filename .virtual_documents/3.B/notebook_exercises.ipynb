








# Exercise 1.1. here:
!cd
# Exercise 1.2. here:
hello = !echo "¡Hola mundo!"
hello











# Notice!: 
# For ModuleNotFoundError: No module named 'nltk' you need to pip install nltk to your environment
# For ModuleNotFoundError: No module named 'ipywidgets' you need to pip install ipywidgets to your environment
# To install nltk data sets movie_reviews and stopwords you need to install the data sets with nltk.download. 
# See examples: https://www.nltk.org/data.html
# Do that here:
import nltk


from nltk import FreqDist
from nltk import RegexpTokenizer
from nltk.corpus import movie_reviews
from nltk.corpus import stopwords 
from ipywidgets import interact

tokenizer = RegexpTokenizer(r"\w+")
word_tokens = tokenizer.tokenize(movie_reviews.raw())

stop_words = set(stopwords.words('english'))

# Exercise 3.1. below:
nltk.download('movie_reviews')
nltk.download('stopwords')

filtered_words = [w for w in word_tokens if w in stop_words]

fd = FreqDist(filtered_words)
fd.plot(5)

# Exercise 3.2. here:
@interact
def slider(n=(5,10)):
    fd.plot(n)





# Paste your repository url here: 
# 
